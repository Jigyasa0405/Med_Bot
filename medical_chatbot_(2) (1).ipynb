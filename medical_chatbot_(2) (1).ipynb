{
  "metadata": {
    "kernelspec": {
      "name": "python3",
      "display_name": "Python 3"
    },
    "language_info": {
      "name": "python",
      "version": "3.10.14",
      "mimetype": "text/x-python",
      "codemirror_mode": {
        "name": "ipython",
        "version": 3
      },
      "pygments_lexer": "ipython3",
      "nbconvert_exporter": "python",
      "file_extension": ".py"
    },
    "colab": {
      "provenance": []
    },
    "kaggle": {
      "accelerator": "nvidiaTeslaT4",
      "dataSources": [
        {
          "sourceId": 9683791,
          "sourceType": "datasetVersion",
          "datasetId": 5919432
        },
        {
          "sourceId": 9691463,
          "sourceType": "datasetVersion",
          "datasetId": 5925096
        },
        {
          "sourceId": 9693928,
          "sourceType": "datasetVersion",
          "datasetId": 5926883
        },
        {
          "sourceId": 9745506,
          "sourceType": "datasetVersion",
          "datasetId": 5965958
        }
      ],
      "dockerImageVersionId": 30786,
      "isInternetEnabled": false,
      "language": "python",
      "sourceType": "notebook",
      "isGpuEnabled": true
    }
  },
  "nbformat_minor": 0,
  "nbformat": 4,
  "cells": [
    {
      "cell_type": "code",
      "source": [
        "import numpy as np\n",
        "\n",
        "import pandas as pd\n",
        "\n",
        "from sklearn.model_selection import train_test_split\n",
        "\n",
        "from sklearn.preprocessing import OneHotEncoder\n",
        "\n",
        "import re\n",
        "\n",
        "import nltk\n",
        "\n",
        "from nltk.tokenize import word_tokenize\n",
        "\n",
        "from nltk.corpus import stopwords"
      ],
      "metadata": {
        "id": "ll1ffGddIYWl",
        "execution": {
          "iopub.status.busy": "2024-10-29T10:23:47.137594Z",
          "iopub.execute_input": "2024-10-29T10:23:47.137951Z",
          "iopub.status.idle": "2024-10-29T10:23:49.934000Z",
          "shell.execute_reply.started": "2024-10-29T10:23:47.137913Z",
          "shell.execute_reply": "2024-10-29T10:23:49.933082Z"
        },
        "trusted": true
      },
      "execution_count": 3,
      "outputs": []
    },
    {
      "cell_type": "code",
      "source": [
        "# IMPORT TRAINING DATASET\n",
        "\n",
        "train_data = pd.read_csv(\"/kaggle/input/medical-data/train_data_chatbot.csv\")\n",
        "\n",
        "train_data.head()"
      ],
      "metadata": {
        "id": "p3T1C4zUIgOc",
        "execution": {
          "iopub.status.busy": "2024-10-21T13:52:46.628298Z",
          "iopub.execute_input": "2024-10-21T13:52:46.628821Z",
          "iopub.status.idle": "2024-10-21T13:52:47.574717Z",
          "shell.execute_reply.started": "2024-10-21T13:52:46.628781Z",
          "shell.execute_reply": "2024-10-21T13:52:47.573749Z"
        },
        "trusted": true
      },
      "execution_count": null,
      "outputs": []
    },
    {
      "cell_type": "code",
      "source": [
        "# IMPORT TESTING DATASET\n",
        "\n",
        "test_data = pd.read_csv(\"/kaggle/input/medical-data/validation_data_chatbot.csv\")\n",
        "\n",
        "test_data.head()"
      ],
      "metadata": {
        "id": "P9tY7zKzJTvo",
        "execution": {
          "iopub.status.busy": "2024-10-21T13:52:52.134388Z",
          "iopub.execute_input": "2024-10-21T13:52:52.135148Z",
          "iopub.status.idle": "2024-10-21T13:52:52.383956Z",
          "shell.execute_reply.started": "2024-10-21T13:52:52.135108Z",
          "shell.execute_reply": "2024-10-21T13:52:52.382914Z"
        },
        "trusted": true
      },
      "execution_count": null,
      "outputs": []
    },
    {
      "cell_type": "code",
      "source": [
        "# CONCATENATE THE DATASETS\n",
        "\n",
        "df = pd.concat([train_data, test_data], ignore_index = True)\n",
        "\n",
        "df.to_csv(\"Medical_data.csv\",index=False)\n",
        "\n",
        "df.head()"
      ],
      "metadata": {
        "id": "ad-39oQJeQoG",
        "execution": {
          "iopub.status.busy": "2024-10-21T13:52:59.990968Z",
          "iopub.execute_input": "2024-10-21T13:52:59.991579Z",
          "iopub.status.idle": "2024-10-21T13:53:01.823713Z",
          "shell.execute_reply.started": "2024-10-21T13:52:59.991537Z",
          "shell.execute_reply": "2024-10-21T13:53:01.822680Z"
        },
        "trusted": true
      },
      "execution_count": null,
      "outputs": []
    },
    {
      "cell_type": "code",
      "source": [
        "# DECLARE DEPENDENT AND INDEPENDENT VARIABLES AND FIND THEIR SIZE\n",
        "\n",
        "X = df[\"short_question\"]\n",
        "\n",
        "Y = df[\"short_answer\"]\n",
        "\n",
        "print(\"Shape of X\",X.shape)\n",
        "\n",
        "print(\"Shape of Y\",Y.shape)"
      ],
      "metadata": {
        "id": "k69m8BASemnv",
        "execution": {
          "iopub.status.busy": "2024-10-21T13:53:06.461376Z",
          "iopub.execute_input": "2024-10-21T13:53:06.462043Z",
          "iopub.status.idle": "2024-10-21T13:53:06.468024Z",
          "shell.execute_reply.started": "2024-10-21T13:53:06.462001Z",
          "shell.execute_reply": "2024-10-21T13:53:06.466925Z"
        },
        "trusted": true
      },
      "execution_count": null,
      "outputs": []
    },
    {
      "cell_type": "code",
      "source": [
        "# CHECK FOR MISSING VALUES IN THE DATASET\n",
        "\n",
        "print(\"\\nMissing values in the dataset:\")\n",
        "\n",
        "print(df.isnull().sum())"
      ],
      "metadata": {
        "id": "OIgRFXuJezIj",
        "execution": {
          "iopub.status.busy": "2024-10-21T13:53:11.885241Z",
          "iopub.execute_input": "2024-10-21T13:53:11.885876Z",
          "iopub.status.idle": "2024-10-21T13:53:11.915824Z",
          "shell.execute_reply.started": "2024-10-21T13:53:11.885836Z",
          "shell.execute_reply": "2024-10-21T13:53:11.914710Z"
        },
        "trusted": true
      },
      "execution_count": null,
      "outputs": []
    },
    {
      "cell_type": "code",
      "source": [
        "# REMOVING NOISE\n",
        "\n",
        "def remove_noise(text):\n",
        "\n",
        "    text = re.sub(r'<.*?>', '', str(text)) # Removes Hyperlinks\n",
        "\n",
        "    text = re.sub(r'[^\\w\\s.]', '', text)   # Removes non-alphanumeric characters except spaces and fullstops\n",
        "\n",
        "    text = re.sub(r'[\\x00-\\x1F]+', '', str(text))  # Removes ASCII control characters (0-31)\n",
        "\n",
        "    return text\n",
        "\n",
        "df['cleaned_short_question'] = df['short_question'].apply(remove_noise)\n",
        "\n",
        "df['cleaned_short_answer'] = df['short_answer'].apply(remove_noise)\n",
        "\n",
        "# df_cleaned = df.applymap(remove_noise)\n",
        "\n",
        "# df_cleaned.head()\n",
        "\n",
        "df.head()"
      ],
      "metadata": {
        "id": "6euopV54ghzI",
        "execution": {
          "iopub.status.busy": "2024-10-21T13:53:14.860534Z",
          "iopub.execute_input": "2024-10-21T13:53:14.860920Z",
          "iopub.status.idle": "2024-10-21T13:53:17.768346Z",
          "shell.execute_reply.started": "2024-10-21T13:53:14.860882Z",
          "shell.execute_reply": "2024-10-21T13:53:17.767460Z"
        },
        "trusted": true
      },
      "execution_count": null,
      "outputs": []
    },
    {
      "cell_type": "code",
      "source": [
        "nltk.download('stopwords')"
      ],
      "metadata": {
        "id": "67mrBQJHguPl",
        "execution": {
          "iopub.status.busy": "2024-10-21T13:53:24.025272Z",
          "iopub.execute_input": "2024-10-21T13:53:24.025765Z",
          "iopub.status.idle": "2024-10-21T13:53:44.068292Z",
          "shell.execute_reply.started": "2024-10-21T13:53:24.025720Z",
          "shell.execute_reply": "2024-10-21T13:53:44.067161Z"
        },
        "trusted": true
      },
      "execution_count": null,
      "outputs": []
    },
    {
      "cell_type": "code",
      "source": [
        "# REMOVE STOPWORDS EXCEPT THE WORDS THAT ARE NEEDED\n",
        "\n",
        "stop_words = set(stopwords.words('english'))\n",
        "\n",
        "# negative_words = {\"not\", \"no\", \"never\", \"n't\", \"neither\", \"nor\", \"wasn't\", \"weren't\", \"haven't\", \"hadn't\", \"don't\", \"doesn't\", \"didn't\", \"won't\", \"wouldn't\", \"shouldn't\", \"couldn't\", \"can't\",\"mustn't\",\"shan't\",\"mightn't\",\"doesn'\",\"haven\",\"mustn\",\"shouldn\",\"couldn\",\"mightn\",\"won\",\"didn\",\"isn\",\"aren't\",\"isn't\",\"wasn\",\"wouldn\",\"hasn't\",\"hadn\",\"needn't\",\"weren\"}\n",
        "\n",
        "negative_words = {\"not\", \"no\", \"never\", \"n't\", \"neither\", \"nor\", \"wasn't\", \"weren't\", \"haven't\", \"hadn't\", \"don't\", \"doesn't\", \"didn't\", \"won't\", \"wouldn't\", \"shouldn't\", \"couldn't\", \"can't\",\"mustn't\",\"shan't\",\"mightn't\",\"aren't\",\"isn't\",\"hasn't\",\"needn't\"}\n",
        "\n",
        "# s = [word for word in stop_words if word not in negative_words]\n",
        "\n",
        "# print(s)\n",
        "\n",
        "\n",
        "\n",
        "def remove_stopwords(text):\n",
        "\n",
        "    words = text.split()  # Split text into words\n",
        "\n",
        "    filtered_words = [word for word in words if word.lower() not in stop_words or word.lower() in negative_words]  # Remove stopwords\n",
        "\n",
        "    return ' '.join(filtered_words)  # Join filtered words back into a string\n",
        "\n",
        "\n",
        "\n",
        "# Apply stopword removal to all columns\n",
        "\n",
        "# stdf = df.applymap(remove_stopwords)\n",
        "\n",
        "# stdf.head()\n",
        "\n",
        "\n",
        "\n",
        "df['c_short_question_no_stopwords'] = df['cleaned_short_question'].apply(remove_stopwords)\n",
        "\n",
        "df['c_short_answer_no_stopwords'] = df['cleaned_short_answer'].apply(remove_stopwords)\n",
        "\n",
        "df.head()"
      ],
      "metadata": {
        "id": "iktLKu5BgykA",
        "execution": {
          "iopub.status.busy": "2024-10-21T13:53:47.748809Z",
          "iopub.execute_input": "2024-10-21T13:53:47.749193Z",
          "iopub.status.idle": "2024-10-21T13:53:50.398235Z",
          "shell.execute_reply.started": "2024-10-21T13:53:47.749156Z",
          "shell.execute_reply": "2024-10-21T13:53:50.397093Z"
        },
        "trusted": true
      },
      "execution_count": null,
      "outputs": []
    },
    {
      "cell_type": "code",
      "source": [
        "nltk.download('punkt')"
      ],
      "metadata": {
        "id": "gChtPvmqfcbE",
        "execution": {
          "iopub.status.busy": "2024-10-21T13:53:58.369820Z",
          "iopub.execute_input": "2024-10-21T13:53:58.370638Z",
          "iopub.status.idle": "2024-10-21T13:54:18.412088Z",
          "shell.execute_reply.started": "2024-10-21T13:53:58.370595Z",
          "shell.execute_reply": "2024-10-21T13:54:18.411116Z"
        },
        "trusted": true
      },
      "execution_count": null,
      "outputs": []
    },
    {
      "cell_type": "code",
      "source": [
        "# WORD TOKENIZATION\n",
        "\n",
        "def tokenize_text(text):\n",
        "\n",
        "    tokens = word_tokenize(str(text))\n",
        "\n",
        "    return tokens\n",
        "\n",
        "# for col in df.columns:\n",
        "\n",
        "#   if col!='tags' and col!='label':\n",
        "\n",
        "#     df[col + '_tokens'] = df[col].apply(tokenize_text)\n",
        "\n",
        "df['cleaned_short_question_no_SW_tokens'] = df['c_short_question_no_stopwords'].apply(tokenize_text)\n",
        "\n",
        "df['cleaned_short_answer_no_SW_tokens'] = df['c_short_answer_no_stopwords'].apply(tokenize_text)\n",
        "\n",
        "df.to_csv(\"tokenized_data.csv\", index=False)"
      ],
      "metadata": {
        "id": "0pAqXsAYfiy0",
        "execution": {
          "iopub.status.busy": "2024-10-21T13:54:20.173134Z",
          "iopub.execute_input": "2024-10-21T13:54:20.173951Z",
          "iopub.status.idle": "2024-10-21T13:55:11.591295Z",
          "shell.execute_reply.started": "2024-10-21T13:54:20.173910Z",
          "shell.execute_reply": "2024-10-21T13:55:11.590482Z"
        },
        "trusted": true
      },
      "execution_count": null,
      "outputs": []
    },
    {
      "cell_type": "code",
      "source": [
        "# READING THE TOKENIZED DATASET\n",
        "\n",
        "data = pd.read_csv(\"/kaggle/input/data-after-tokenization/tokenized_data.csv\")\n",
        "\n",
        "#data = data.drop(columns=['short_question_tokens_tokens', 'short_answer_tokens_tokens', 'tags_tokens_tokens', 'label_tokens_tokens'])\n",
        "\n",
        "data.head()"
      ],
      "metadata": {
        "id": "adYSbOpLgHzO",
        "execution": {
          "iopub.status.busy": "2024-10-25T04:06:37.133182Z",
          "iopub.execute_input": "2024-10-25T04:06:37.133584Z",
          "iopub.status.idle": "2024-10-25T04:06:40.299524Z",
          "shell.execute_reply.started": "2024-10-25T04:06:37.133522Z",
          "shell.execute_reply": "2024-10-25T04:06:40.298508Z"
        },
        "trusted": true
      },
      "execution_count": null,
      "outputs": []
    },
    {
      "cell_type": "code",
      "source": [
        "# CONVERT TO LOWERCASE\n",
        "\n",
        "def lowercase_text(text):\n",
        "\n",
        "    return str(text).lower()\n",
        "\n",
        "df = data.applymap(lowercase_text)\n",
        "\n",
        "df.head()"
      ],
      "metadata": {
        "id": "blQxS82LgVCg",
        "execution": {
          "iopub.status.busy": "2024-10-25T04:06:46.492412Z",
          "iopub.execute_input": "2024-10-25T04:06:46.493273Z",
          "iopub.status.idle": "2024-10-25T04:06:47.033932Z",
          "shell.execute_reply.started": "2024-10-25T04:06:46.493228Z",
          "shell.execute_reply": "2024-10-25T04:06:47.033034Z"
        },
        "trusted": true
      },
      "execution_count": null,
      "outputs": []
    },
    {
      "cell_type": "code",
      "source": [
        "# LEMMATIZING THE DATASET AND CALCULATING THE TIME TAKEN FOR THAT\n",
        "import spacy\n",
        "import pandas as pd\n",
        "import time\n",
        "spacy.require_gpu()\n",
        "\n",
        "# Load spaCy model\n",
        "nlp = spacy.load(\"en_core_web_sm\")\n",
        "\n",
        "# Function to lemmatize texts in batches\n",
        "def lemmatize_texts(texts, batch_size=1000):\n",
        "    lemmatized_tokens = []\n",
        "    for doc in nlp.pipe(texts, batch_size=batch_size):\n",
        "        lemmatized_tokens.append([token.lemma_ for token in doc])\n",
        "    return lemmatized_tokens\n",
        "\n",
        "# Measure the start time\n",
        "start_time = time.time()\n",
        "\n",
        "# Lemmatize the whole dataset columns\n",
        "df['lemmatized_short_question_tokens'] = lemmatize_texts(df['cleaned_short_question_no_SW_tokens'].tolist())\n",
        "df['lemmatized_short_answer_tokens'] = lemmatize_texts(df['cleaned_short_answer_no_SW_tokens'].tolist())\n",
        "\n",
        "# Measure the end time\n",
        "end_time = time.time()\n",
        "\n",
        "# Print the time taken\n",
        "print(f\"Time taken to lemmatize the whole dataset: {(end_time - start_time)/60:.2f} minutes\")\n",
        "\n",
        "# Save the lemmatized dataframe to a file (optional)\n",
        "df.to_csv(\"lemmatized_dataset.csv\", index=False)\n"
      ],
      "metadata": {
        "execution": {
          "iopub.status.busy": "2024-10-22T10:50:05.358889Z",
          "iopub.execute_input": "2024-10-22T10:50:05.359785Z",
          "iopub.status.idle": "2024-10-22T11:05:25.690939Z",
          "shell.execute_reply.started": "2024-10-22T10:50:05.359732Z",
          "shell.execute_reply": "2024-10-22T11:05:25.689907Z"
        },
        "trusted": true,
        "id": "1jXVyEtl1Jgf"
      },
      "execution_count": null,
      "outputs": []
    },
    {
      "cell_type": "code",
      "source": [
        "df = pd.read_csv(\"/kaggle/input/lemmatized-data/lemmatized_dataset.csv\")\n",
        "df.head()"
      ],
      "metadata": {
        "execution": {
          "iopub.status.busy": "2024-10-28T14:33:02.352930Z",
          "iopub.execute_input": "2024-10-28T14:33:02.353524Z",
          "iopub.status.idle": "2024-10-28T14:33:09.799176Z",
          "shell.execute_reply.started": "2024-10-28T14:33:02.353481Z",
          "shell.execute_reply": "2024-10-28T14:33:09.797762Z"
        },
        "trusted": true,
        "id": "caFi8LnP1Jgf",
        "outputId": "c364068f-8eea-423e-d014-dbce2899db87"
      },
      "execution_count": null,
      "outputs": [
        {
          "execution_count": 2,
          "output_type": "execute_result",
          "data": {
            "text/plain": "                                      short_question  \\\n0  can an antibiotic through an iv give you a ras...   \n1  can you test positive from having the hep b va...   \n2  what are the dietary restrictions for celiac d...   \n3  can i transmit genital warts seventeen years a...   \n4                          is all vitamin d the same   \n\n                                        short_answer                   tags  \\\n0  yes it can even after you have finished the pr...  ['rash' 'antibiotic']   \n1  test positive for what if you had a hep b vacc...        ['hepatitis b']   \n2  omitting gluten from the diet is the key to co...     ['celiac disease']   \n3  famotidine pepcid products is in a drug class ...               ['wart']   \n4  hi this means you do not have hepatitis b and ...          ['vitamin d']   \n\n   label                             cleaned_short_question  \\\n0    1.0  can an antibiotic through an iv give you a ras...   \n1    1.0  can you test positive from having the hep b va...   \n2    1.0  what are the dietary restrictions for celiac d...   \n3   -1.0  can i transmit genital warts seventeen years a...   \n4   -1.0                          is all vitamin d the same   \n\n                                cleaned_short_answer  \\\n0  yes it can even after you have finished the pr...   \n1  test positive for what if you had a hep b vacc...   \n2  omitting gluten from the diet is the key to co...   \n3  famotidine pepcid products is in a drug class ...   \n4  hi this means you do not have hepatitis b and ...   \n\n                    c_short_question_no_stopwords  \\\n0       antibiotic iv give rash couple days later   \n1                     test positive hep b vaccine   \n2      dietary restrictions celiac disease gluten   \n3  transmit genital warts seventeen years removed   \n4                                         vitamin   \n\n                         c_short_answer_no_stopwords  \\\n0         yes even finished prescription antibiotics   \n1  test positive hep b vaccine subsequent blood t...   \n2  omitting gluten diet key controlling celiac di...   \n3  famotidine pepcid products drug class called h...   \n4  hi means not hepatitis b immune hepatitis b re...   \n\n                 cleaned_short_question_no_SW_tokens  \\\n0  ['antibiotic', 'iv', 'give', 'rash', 'couple',...   \n1        ['test', 'positive', 'hep', 'b', 'vaccine']   \n2  ['dietary', 'restrictions', 'celiac', 'disease...   \n3  ['transmit', 'genital', 'warts', 'seventeen', ...   \n4                                        ['vitamin']   \n\n                   cleaned_short_answer_no_SW_tokens  \\\n0  ['yes', 'even', 'finished', 'prescription', 'a...   \n1  ['test', 'positive', 'hep', 'b', 'vaccine', 's...   \n2  ['omitting', 'gluten', 'diet', 'key', 'control...   \n3  ['famotidine', 'pepcid', 'products', 'drug', '...   \n4  ['hi', 'means', 'not', 'hepatitis', 'b', 'immu...   \n\n                    lemmatized_short_question_tokens  \\\n0  ['[', \"'\", 'antibiotic', \"'\", ',', \"'\", 'iv', ...   \n1  ['[', \"'\", 'test', \"'\", ',', \"'\", 'positive', ...   \n2  ['[', \"'\", 'dietary', \"'\", ',', \"'\", 'restrict...   \n3  ['[', \"'\", 'transmit', \"'\", ',', \"'\", 'genital...   \n4                    ['[', \"'\", 'vitamin', \"'\", ']']   \n\n                      lemmatized_short_answer_tokens  \n0  ['[', \"'\", 'yes', \"'\", ',', \"'\", 'even', \"'\", ...  \n1  ['[', \"'\", 'test', \"'\", ',', \"'\", 'positive', ...  \n2  ['[', \"'\", 'omit', \"'\", ',', \"'\", 'gluten', \"'...  \n3  ['[', \"'\", 'famotidine', \"'\", ',', \"'\", 'pepci...  \n4  ['[', \"'\", 'hi', \"'\", ',', \"'\", 'mean', \"'\", '...  ",
            "text/html": "<div>\n<style scoped>\n    .dataframe tbody tr th:only-of-type {\n        vertical-align: middle;\n    }\n\n    .dataframe tbody tr th {\n        vertical-align: top;\n    }\n\n    .dataframe thead th {\n        text-align: right;\n    }\n</style>\n<table border=\"1\" class=\"dataframe\">\n  <thead>\n    <tr style=\"text-align: right;\">\n      <th></th>\n      <th>short_question</th>\n      <th>short_answer</th>\n      <th>tags</th>\n      <th>label</th>\n      <th>cleaned_short_question</th>\n      <th>cleaned_short_answer</th>\n      <th>c_short_question_no_stopwords</th>\n      <th>c_short_answer_no_stopwords</th>\n      <th>cleaned_short_question_no_SW_tokens</th>\n      <th>cleaned_short_answer_no_SW_tokens</th>\n      <th>lemmatized_short_question_tokens</th>\n      <th>lemmatized_short_answer_tokens</th>\n    </tr>\n  </thead>\n  <tbody>\n    <tr>\n      <th>0</th>\n      <td>can an antibiotic through an iv give you a ras...</td>\n      <td>yes it can even after you have finished the pr...</td>\n      <td>['rash' 'antibiotic']</td>\n      <td>1.0</td>\n      <td>can an antibiotic through an iv give you a ras...</td>\n      <td>yes it can even after you have finished the pr...</td>\n      <td>antibiotic iv give rash couple days later</td>\n      <td>yes even finished prescription antibiotics</td>\n      <td>['antibiotic', 'iv', 'give', 'rash', 'couple',...</td>\n      <td>['yes', 'even', 'finished', 'prescription', 'a...</td>\n      <td>['[', \"'\", 'antibiotic', \"'\", ',', \"'\", 'iv', ...</td>\n      <td>['[', \"'\", 'yes', \"'\", ',', \"'\", 'even', \"'\", ...</td>\n    </tr>\n    <tr>\n      <th>1</th>\n      <td>can you test positive from having the hep b va...</td>\n      <td>test positive for what if you had a hep b vacc...</td>\n      <td>['hepatitis b']</td>\n      <td>1.0</td>\n      <td>can you test positive from having the hep b va...</td>\n      <td>test positive for what if you had a hep b vacc...</td>\n      <td>test positive hep b vaccine</td>\n      <td>test positive hep b vaccine subsequent blood t...</td>\n      <td>['test', 'positive', 'hep', 'b', 'vaccine']</td>\n      <td>['test', 'positive', 'hep', 'b', 'vaccine', 's...</td>\n      <td>['[', \"'\", 'test', \"'\", ',', \"'\", 'positive', ...</td>\n      <td>['[', \"'\", 'test', \"'\", ',', \"'\", 'positive', ...</td>\n    </tr>\n    <tr>\n      <th>2</th>\n      <td>what are the dietary restrictions for celiac d...</td>\n      <td>omitting gluten from the diet is the key to co...</td>\n      <td>['celiac disease']</td>\n      <td>1.0</td>\n      <td>what are the dietary restrictions for celiac d...</td>\n      <td>omitting gluten from the diet is the key to co...</td>\n      <td>dietary restrictions celiac disease gluten</td>\n      <td>omitting gluten diet key controlling celiac di...</td>\n      <td>['dietary', 'restrictions', 'celiac', 'disease...</td>\n      <td>['omitting', 'gluten', 'diet', 'key', 'control...</td>\n      <td>['[', \"'\", 'dietary', \"'\", ',', \"'\", 'restrict...</td>\n      <td>['[', \"'\", 'omit', \"'\", ',', \"'\", 'gluten', \"'...</td>\n    </tr>\n    <tr>\n      <th>3</th>\n      <td>can i transmit genital warts seventeen years a...</td>\n      <td>famotidine pepcid products is in a drug class ...</td>\n      <td>['wart']</td>\n      <td>-1.0</td>\n      <td>can i transmit genital warts seventeen years a...</td>\n      <td>famotidine pepcid products is in a drug class ...</td>\n      <td>transmit genital warts seventeen years removed</td>\n      <td>famotidine pepcid products drug class called h...</td>\n      <td>['transmit', 'genital', 'warts', 'seventeen', ...</td>\n      <td>['famotidine', 'pepcid', 'products', 'drug', '...</td>\n      <td>['[', \"'\", 'transmit', \"'\", ',', \"'\", 'genital...</td>\n      <td>['[', \"'\", 'famotidine', \"'\", ',', \"'\", 'pepci...</td>\n    </tr>\n    <tr>\n      <th>4</th>\n      <td>is all vitamin d the same</td>\n      <td>hi this means you do not have hepatitis b and ...</td>\n      <td>['vitamin d']</td>\n      <td>-1.0</td>\n      <td>is all vitamin d the same</td>\n      <td>hi this means you do not have hepatitis b and ...</td>\n      <td>vitamin</td>\n      <td>hi means not hepatitis b immune hepatitis b re...</td>\n      <td>['vitamin']</td>\n      <td>['hi', 'means', 'not', 'hepatitis', 'b', 'immu...</td>\n      <td>['[', \"'\", 'vitamin', \"'\", ']']</td>\n      <td>['[', \"'\", 'hi', \"'\", ',', \"'\", 'mean', \"'\", '...</td>\n    </tr>\n  </tbody>\n</table>\n</div>"
          },
          "metadata": {}
        }
      ]
    },
    {
      "cell_type": "code",
      "source": [
        "# CLEANING THE LEMMATIZED DATASET\n",
        "import re\n",
        "\n",
        "def clean_and_filter_tokens(tokens_str):\n",
        "    try:\n",
        "        # Extract tokens using a flexible regex\n",
        "        tokens = re.findall(r'\\b[a-zA-Z]+\\b', tokens_str.strip('[]'))\n",
        "    except (TypeError, AttributeError):\n",
        "        # Handle cases where the input is not a string or is None\n",
        "        tokens = []\n",
        "\n",
        "    # Filter tokens based on length (optional, if you still need this step)\n",
        "    filtered_tokens = [token for token in tokens if len(token) > 2]\n",
        "\n",
        "    return filtered_tokens  # Return the list directly\n",
        "\n",
        "df['filtered_short_question_tokens'] = df['lemmatized_short_question_tokens'].apply(clean_and_filter_tokens)\n",
        "df['filtered_short_answer_tokens'] = df['lemmatized_short_answer_tokens'].apply(clean_and_filter_tokens)\n",
        "df.head()\n",
        "df.to_csv(\"filtered_lemmatized_dataset.csv\", index=False)"
      ],
      "metadata": {
        "execution": {
          "iopub.status.busy": "2024-10-28T14:34:25.954782Z",
          "iopub.execute_input": "2024-10-28T14:34:25.955264Z",
          "iopub.status.idle": "2024-10-28T14:34:32.388006Z",
          "shell.execute_reply.started": "2024-10-28T14:34:25.955200Z",
          "shell.execute_reply": "2024-10-28T14:34:32.386781Z"
        },
        "trusted": true,
        "id": "qLtt-5iZ1Jgg",
        "outputId": "96fd39bc-3b7d-4438-8e4c-927d274bfc70"
      },
      "execution_count": null,
      "outputs": [
        {
          "execution_count": 3,
          "output_type": "execute_result",
          "data": {
            "text/plain": "                                      short_question  \\\n0  can an antibiotic through an iv give you a ras...   \n1  can you test positive from having the hep b va...   \n2  what are the dietary restrictions for celiac d...   \n3  can i transmit genital warts seventeen years a...   \n4                          is all vitamin d the same   \n\n                                        short_answer                   tags  \\\n0  yes it can even after you have finished the pr...  ['rash' 'antibiotic']   \n1  test positive for what if you had a hep b vacc...        ['hepatitis b']   \n2  omitting gluten from the diet is the key to co...     ['celiac disease']   \n3  famotidine pepcid products is in a drug class ...               ['wart']   \n4  hi this means you do not have hepatitis b and ...          ['vitamin d']   \n\n   label                             cleaned_short_question  \\\n0    1.0  can an antibiotic through an iv give you a ras...   \n1    1.0  can you test positive from having the hep b va...   \n2    1.0  what are the dietary restrictions for celiac d...   \n3   -1.0  can i transmit genital warts seventeen years a...   \n4   -1.0                          is all vitamin d the same   \n\n                                cleaned_short_answer  \\\n0  yes it can even after you have finished the pr...   \n1  test positive for what if you had a hep b vacc...   \n2  omitting gluten from the diet is the key to co...   \n3  famotidine pepcid products is in a drug class ...   \n4  hi this means you do not have hepatitis b and ...   \n\n                    c_short_question_no_stopwords  \\\n0       antibiotic iv give rash couple days later   \n1                     test positive hep b vaccine   \n2      dietary restrictions celiac disease gluten   \n3  transmit genital warts seventeen years removed   \n4                                         vitamin   \n\n                         c_short_answer_no_stopwords  \\\n0         yes even finished prescription antibiotics   \n1  test positive hep b vaccine subsequent blood t...   \n2  omitting gluten diet key controlling celiac di...   \n3  famotidine pepcid products drug class called h...   \n4  hi means not hepatitis b immune hepatitis b re...   \n\n                 cleaned_short_question_no_SW_tokens  \\\n0  ['antibiotic', 'iv', 'give', 'rash', 'couple',...   \n1        ['test', 'positive', 'hep', 'b', 'vaccine']   \n2  ['dietary', 'restrictions', 'celiac', 'disease...   \n3  ['transmit', 'genital', 'warts', 'seventeen', ...   \n4                                        ['vitamin']   \n\n                   cleaned_short_answer_no_SW_tokens  \\\n0  ['yes', 'even', 'finished', 'prescription', 'a...   \n1  ['test', 'positive', 'hep', 'b', 'vaccine', 's...   \n2  ['omitting', 'gluten', 'diet', 'key', 'control...   \n3  ['famotidine', 'pepcid', 'products', 'drug', '...   \n4  ['hi', 'means', 'not', 'hepatitis', 'b', 'immu...   \n\n                    lemmatized_short_question_tokens  \\\n0  ['[', \"'\", 'antibiotic', \"'\", ',', \"'\", 'iv', ...   \n1  ['[', \"'\", 'test', \"'\", ',', \"'\", 'positive', ...   \n2  ['[', \"'\", 'dietary', \"'\", ',', \"'\", 'restrict...   \n3  ['[', \"'\", 'transmit', \"'\", ',', \"'\", 'genital...   \n4                    ['[', \"'\", 'vitamin', \"'\", ']']   \n\n                      lemmatized_short_answer_tokens  \\\n0  ['[', \"'\", 'yes', \"'\", ',', \"'\", 'even', \"'\", ...   \n1  ['[', \"'\", 'test', \"'\", ',', \"'\", 'positive', ...   \n2  ['[', \"'\", 'omit', \"'\", ',', \"'\", 'gluten', \"'...   \n3  ['[', \"'\", 'famotidine', \"'\", ',', \"'\", 'pepci...   \n4  ['[', \"'\", 'hi', \"'\", ',', \"'\", 'mean', \"'\", '...   \n\n                      filtered_short_question_tokens  \\\n0       [antibiotic, give, rash, couple, day, later]   \n1                     [test, positive, hep, vaccine]   \n2    [dietary, restriction, celiac, disease, gluten]   \n3  [transmit, genital, wart, seventeen, year, rem...   \n4                                          [vitamin]   \n\n                        filtered_short_answer_tokens  \n0      [yes, even, finish, prescription, antibiotic]  \n1  [test, positive, hep, vaccine, subsequent, blo...  \n2  [omit, gluten, diet, key, control, celiac, dis...  \n3  [famotidine, pepcid, product, drug, class, cal...  \n4  [mean, not, hepatitis, immune, hepatitis, reco...  ",
            "text/html": "<div>\n<style scoped>\n    .dataframe tbody tr th:only-of-type {\n        vertical-align: middle;\n    }\n\n    .dataframe tbody tr th {\n        vertical-align: top;\n    }\n\n    .dataframe thead th {\n        text-align: right;\n    }\n</style>\n<table border=\"1\" class=\"dataframe\">\n  <thead>\n    <tr style=\"text-align: right;\">\n      <th></th>\n      <th>short_question</th>\n      <th>short_answer</th>\n      <th>tags</th>\n      <th>label</th>\n      <th>cleaned_short_question</th>\n      <th>cleaned_short_answer</th>\n      <th>c_short_question_no_stopwords</th>\n      <th>c_short_answer_no_stopwords</th>\n      <th>cleaned_short_question_no_SW_tokens</th>\n      <th>cleaned_short_answer_no_SW_tokens</th>\n      <th>lemmatized_short_question_tokens</th>\n      <th>lemmatized_short_answer_tokens</th>\n      <th>filtered_short_question_tokens</th>\n      <th>filtered_short_answer_tokens</th>\n    </tr>\n  </thead>\n  <tbody>\n    <tr>\n      <th>0</th>\n      <td>can an antibiotic through an iv give you a ras...</td>\n      <td>yes it can even after you have finished the pr...</td>\n      <td>['rash' 'antibiotic']</td>\n      <td>1.0</td>\n      <td>can an antibiotic through an iv give you a ras...</td>\n      <td>yes it can even after you have finished the pr...</td>\n      <td>antibiotic iv give rash couple days later</td>\n      <td>yes even finished prescription antibiotics</td>\n      <td>['antibiotic', 'iv', 'give', 'rash', 'couple',...</td>\n      <td>['yes', 'even', 'finished', 'prescription', 'a...</td>\n      <td>['[', \"'\", 'antibiotic', \"'\", ',', \"'\", 'iv', ...</td>\n      <td>['[', \"'\", 'yes', \"'\", ',', \"'\", 'even', \"'\", ...</td>\n      <td>[antibiotic, give, rash, couple, day, later]</td>\n      <td>[yes, even, finish, prescription, antibiotic]</td>\n    </tr>\n    <tr>\n      <th>1</th>\n      <td>can you test positive from having the hep b va...</td>\n      <td>test positive for what if you had a hep b vacc...</td>\n      <td>['hepatitis b']</td>\n      <td>1.0</td>\n      <td>can you test positive from having the hep b va...</td>\n      <td>test positive for what if you had a hep b vacc...</td>\n      <td>test positive hep b vaccine</td>\n      <td>test positive hep b vaccine subsequent blood t...</td>\n      <td>['test', 'positive', 'hep', 'b', 'vaccine']</td>\n      <td>['test', 'positive', 'hep', 'b', 'vaccine', 's...</td>\n      <td>['[', \"'\", 'test', \"'\", ',', \"'\", 'positive', ...</td>\n      <td>['[', \"'\", 'test', \"'\", ',', \"'\", 'positive', ...</td>\n      <td>[test, positive, hep, vaccine]</td>\n      <td>[test, positive, hep, vaccine, subsequent, blo...</td>\n    </tr>\n    <tr>\n      <th>2</th>\n      <td>what are the dietary restrictions for celiac d...</td>\n      <td>omitting gluten from the diet is the key to co...</td>\n      <td>['celiac disease']</td>\n      <td>1.0</td>\n      <td>what are the dietary restrictions for celiac d...</td>\n      <td>omitting gluten from the diet is the key to co...</td>\n      <td>dietary restrictions celiac disease gluten</td>\n      <td>omitting gluten diet key controlling celiac di...</td>\n      <td>['dietary', 'restrictions', 'celiac', 'disease...</td>\n      <td>['omitting', 'gluten', 'diet', 'key', 'control...</td>\n      <td>['[', \"'\", 'dietary', \"'\", ',', \"'\", 'restrict...</td>\n      <td>['[', \"'\", 'omit', \"'\", ',', \"'\", 'gluten', \"'...</td>\n      <td>[dietary, restriction, celiac, disease, gluten]</td>\n      <td>[omit, gluten, diet, key, control, celiac, dis...</td>\n    </tr>\n    <tr>\n      <th>3</th>\n      <td>can i transmit genital warts seventeen years a...</td>\n      <td>famotidine pepcid products is in a drug class ...</td>\n      <td>['wart']</td>\n      <td>-1.0</td>\n      <td>can i transmit genital warts seventeen years a...</td>\n      <td>famotidine pepcid products is in a drug class ...</td>\n      <td>transmit genital warts seventeen years removed</td>\n      <td>famotidine pepcid products drug class called h...</td>\n      <td>['transmit', 'genital', 'warts', 'seventeen', ...</td>\n      <td>['famotidine', 'pepcid', 'products', 'drug', '...</td>\n      <td>['[', \"'\", 'transmit', \"'\", ',', \"'\", 'genital...</td>\n      <td>['[', \"'\", 'famotidine', \"'\", ',', \"'\", 'pepci...</td>\n      <td>[transmit, genital, wart, seventeen, year, rem...</td>\n      <td>[famotidine, pepcid, product, drug, class, cal...</td>\n    </tr>\n    <tr>\n      <th>4</th>\n      <td>is all vitamin d the same</td>\n      <td>hi this means you do not have hepatitis b and ...</td>\n      <td>['vitamin d']</td>\n      <td>-1.0</td>\n      <td>is all vitamin d the same</td>\n      <td>hi this means you do not have hepatitis b and ...</td>\n      <td>vitamin</td>\n      <td>hi means not hepatitis b immune hepatitis b re...</td>\n      <td>['vitamin']</td>\n      <td>['hi', 'means', 'not', 'hepatitis', 'b', 'immu...</td>\n      <td>['[', \"'\", 'vitamin', \"'\", ']']</td>\n      <td>['[', \"'\", 'hi', \"'\", ',', \"'\", 'mean', \"'\", '...</td>\n      <td>[vitamin]</td>\n      <td>[mean, not, hepatitis, immune, hepatitis, reco...</td>\n    </tr>\n  </tbody>\n</table>\n</div>"
          },
          "metadata": {}
        }
      ]
    },
    {
      "cell_type": "code",
      "source": [
        "df = pd.read_csv(\"/content/filtered_lemmatized_dataset.csv\")\n",
        "df.head()"
      ],
      "metadata": {
        "execution": {
          "iopub.status.busy": "2024-10-29T10:24:10.961499Z",
          "iopub.execute_input": "2024-10-29T10:24:10.961983Z",
          "iopub.status.idle": "2024-10-29T10:24:11.655028Z",
          "shell.execute_reply.started": "2024-10-29T10:24:10.961948Z",
          "shell.execute_reply": "2024-10-29T10:24:11.654150Z"
        },
        "trusted": true,
        "colab": {
          "base_uri": "https://localhost:8080/",
          "height": 486
        },
        "id": "nW-yiqU91Jgg",
        "outputId": "b1038485-df9e-4a27-bf17-0d7af6645e68"
      },
      "execution_count": 4,
      "outputs": [
        {
          "output_type": "execute_result",
          "data": {
            "text/plain": [
              "                                      short_question  \\\n",
              "0  can an antibiotic through an iv give you a ras...   \n",
              "1  can you test positive from having the hep b va...   \n",
              "2  what are the dietary restrictions for celiac d...   \n",
              "3  can i transmit genital warts seventeen years a...   \n",
              "4                          is all vitamin d the same   \n",
              "\n",
              "                                        short_answer                   tags  \\\n",
              "0  yes it can even after you have finished the pr...  ['rash' 'antibiotic']   \n",
              "1  test positive for what if you had a hep b vacc...        ['hepatitis b']   \n",
              "2  omitting gluten from the diet is the key to co...     ['celiac disease']   \n",
              "3  famotidine pepcid products is in a drug class ...               ['wart']   \n",
              "4  hi this means you do not have hepatitis b and ...          ['vitamin d']   \n",
              "\n",
              "   label                             cleaned_short_question  \\\n",
              "0    1.0  can an antibiotic through an iv give you a ras...   \n",
              "1    1.0  can you test positive from having the hep b va...   \n",
              "2    1.0  what are the dietary restrictions for celiac d...   \n",
              "3   -1.0  can i transmit genital warts seventeen years a...   \n",
              "4   -1.0                          is all vitamin d the same   \n",
              "\n",
              "                                cleaned_short_answer  \\\n",
              "0  yes it can even after you have finished the pr...   \n",
              "1  test positive for what if you had a hep b vacc...   \n",
              "2  omitting gluten from the diet is the key to co...   \n",
              "3  famotidine pepcid products is in a drug class ...   \n",
              "4  hi this means you do not have hepatitis b and ...   \n",
              "\n",
              "                    c_short_question_no_stopwords  \\\n",
              "0       antibiotic iv give rash couple days later   \n",
              "1                     test positive hep b vaccine   \n",
              "2      dietary restrictions celiac disease gluten   \n",
              "3  transmit genital warts seventeen years removed   \n",
              "4                                         vitamin   \n",
              "\n",
              "                         c_short_answer_no_stopwords  \\\n",
              "0         yes even finished prescription antibiotics   \n",
              "1  test positive hep b vaccine subsequent blood t...   \n",
              "2  omitting gluten diet key controlling celiac di...   \n",
              "3  famotidine pepcid products drug class called h...   \n",
              "4  hi means not hepatitis b immune hepatitis b re...   \n",
              "\n",
              "                 cleaned_short_question_no_SW_tokens  \\\n",
              "0  ['antibiotic', 'iv', 'give', 'rash', 'couple',...   \n",
              "1        ['test', 'positive', 'hep', 'b', 'vaccine']   \n",
              "2  ['dietary', 'restrictions', 'celiac', 'disease...   \n",
              "3  ['transmit', 'genital', 'warts', 'seventeen', ...   \n",
              "4                                        ['vitamin']   \n",
              "\n",
              "                   cleaned_short_answer_no_SW_tokens  \\\n",
              "0  ['yes', 'even', 'finished', 'prescription', 'a...   \n",
              "1  ['test', 'positive', 'hep', 'b', 'vaccine', 's...   \n",
              "2  ['omitting', 'gluten', 'diet', 'key', 'control...   \n",
              "3  ['famotidine', 'pepcid', 'products', 'drug', '...   \n",
              "4  ['hi', 'means', 'not', 'hepatitis', 'b', 'immu...   \n",
              "\n",
              "                    lemmatized_short_question_tokens  \\\n",
              "0  ['[', \"'\", 'antibiotic', \"'\", ',', \"'\", 'iv', ...   \n",
              "1  ['[', \"'\", 'test', \"'\", ',', \"'\", 'positive', ...   \n",
              "2  ['[', \"'\", 'dietary', \"'\", ',', \"'\", 'restrict...   \n",
              "3  ['[', \"'\", 'transmit', \"'\", ',', \"'\", 'genital...   \n",
              "4                    ['[', \"'\", 'vitamin', \"'\", ']']   \n",
              "\n",
              "                      lemmatized_short_answer_tokens  \\\n",
              "0  ['[', \"'\", 'yes', \"'\", ',', \"'\", 'even', \"'\", ...   \n",
              "1  ['[', \"'\", 'test', \"'\", ',', \"'\", 'positive', ...   \n",
              "2  ['[', \"'\", 'omit', \"'\", ',', \"'\", 'gluten', \"'...   \n",
              "3  ['[', \"'\", 'famotidine', \"'\", ',', \"'\", 'pepci...   \n",
              "4  ['[', \"'\", 'hi', \"'\", ',', \"'\", 'mean', \"'\", '...   \n",
              "\n",
              "                      filtered_short_question_tokens  \\\n",
              "0  ['antibiotic', 'give', 'rash', 'couple', 'day'...   \n",
              "1             ['test', 'positive', 'hep', 'vaccine']   \n",
              "2  ['dietary', 'restriction', 'celiac', 'disease'...   \n",
              "3  ['transmit', 'genital', 'wart', 'seventeen', '...   \n",
              "4                                        ['vitamin']   \n",
              "\n",
              "                        filtered_short_answer_tokens  \n",
              "0  ['yes', 'even', 'finish', 'prescription', 'ant...  \n",
              "1  ['test', 'positive', 'hep', 'vaccine', 'subseq...  \n",
              "2  ['omit', 'gluten', 'diet', 'key', 'control', '...  \n",
              "3  ['famotidine', 'pepcid', 'product', 'drug', 'c...  \n",
              "4  ['mean', 'not', 'hepatitis', 'immune', 'hepati...  "
            ],
            "text/html": [
              "\n",
              "  <div id=\"df-cda32e03-7ab6-488f-8893-871662fbe641\" class=\"colab-df-container\">\n",
              "    <div>\n",
              "<style scoped>\n",
              "    .dataframe tbody tr th:only-of-type {\n",
              "        vertical-align: middle;\n",
              "    }\n",
              "\n",
              "    .dataframe tbody tr th {\n",
              "        vertical-align: top;\n",
              "    }\n",
              "\n",
              "    .dataframe thead th {\n",
              "        text-align: right;\n",
              "    }\n",
              "</style>\n",
              "<table border=\"1\" class=\"dataframe\">\n",
              "  <thead>\n",
              "    <tr style=\"text-align: right;\">\n",
              "      <th></th>\n",
              "      <th>short_question</th>\n",
              "      <th>short_answer</th>\n",
              "      <th>tags</th>\n",
              "      <th>label</th>\n",
              "      <th>cleaned_short_question</th>\n",
              "      <th>cleaned_short_answer</th>\n",
              "      <th>c_short_question_no_stopwords</th>\n",
              "      <th>c_short_answer_no_stopwords</th>\n",
              "      <th>cleaned_short_question_no_SW_tokens</th>\n",
              "      <th>cleaned_short_answer_no_SW_tokens</th>\n",
              "      <th>lemmatized_short_question_tokens</th>\n",
              "      <th>lemmatized_short_answer_tokens</th>\n",
              "      <th>filtered_short_question_tokens</th>\n",
              "      <th>filtered_short_answer_tokens</th>\n",
              "    </tr>\n",
              "  </thead>\n",
              "  <tbody>\n",
              "    <tr>\n",
              "      <th>0</th>\n",
              "      <td>can an antibiotic through an iv give you a ras...</td>\n",
              "      <td>yes it can even after you have finished the pr...</td>\n",
              "      <td>['rash' 'antibiotic']</td>\n",
              "      <td>1.0</td>\n",
              "      <td>can an antibiotic through an iv give you a ras...</td>\n",
              "      <td>yes it can even after you have finished the pr...</td>\n",
              "      <td>antibiotic iv give rash couple days later</td>\n",
              "      <td>yes even finished prescription antibiotics</td>\n",
              "      <td>['antibiotic', 'iv', 'give', 'rash', 'couple',...</td>\n",
              "      <td>['yes', 'even', 'finished', 'prescription', 'a...</td>\n",
              "      <td>['[', \"'\", 'antibiotic', \"'\", ',', \"'\", 'iv', ...</td>\n",
              "      <td>['[', \"'\", 'yes', \"'\", ',', \"'\", 'even', \"'\", ...</td>\n",
              "      <td>['antibiotic', 'give', 'rash', 'couple', 'day'...</td>\n",
              "      <td>['yes', 'even', 'finish', 'prescription', 'ant...</td>\n",
              "    </tr>\n",
              "    <tr>\n",
              "      <th>1</th>\n",
              "      <td>can you test positive from having the hep b va...</td>\n",
              "      <td>test positive for what if you had a hep b vacc...</td>\n",
              "      <td>['hepatitis b']</td>\n",
              "      <td>1.0</td>\n",
              "      <td>can you test positive from having the hep b va...</td>\n",
              "      <td>test positive for what if you had a hep b vacc...</td>\n",
              "      <td>test positive hep b vaccine</td>\n",
              "      <td>test positive hep b vaccine subsequent blood t...</td>\n",
              "      <td>['test', 'positive', 'hep', 'b', 'vaccine']</td>\n",
              "      <td>['test', 'positive', 'hep', 'b', 'vaccine', 's...</td>\n",
              "      <td>['[', \"'\", 'test', \"'\", ',', \"'\", 'positive', ...</td>\n",
              "      <td>['[', \"'\", 'test', \"'\", ',', \"'\", 'positive', ...</td>\n",
              "      <td>['test', 'positive', 'hep', 'vaccine']</td>\n",
              "      <td>['test', 'positive', 'hep', 'vaccine', 'subseq...</td>\n",
              "    </tr>\n",
              "    <tr>\n",
              "      <th>2</th>\n",
              "      <td>what are the dietary restrictions for celiac d...</td>\n",
              "      <td>omitting gluten from the diet is the key to co...</td>\n",
              "      <td>['celiac disease']</td>\n",
              "      <td>1.0</td>\n",
              "      <td>what are the dietary restrictions for celiac d...</td>\n",
              "      <td>omitting gluten from the diet is the key to co...</td>\n",
              "      <td>dietary restrictions celiac disease gluten</td>\n",
              "      <td>omitting gluten diet key controlling celiac di...</td>\n",
              "      <td>['dietary', 'restrictions', 'celiac', 'disease...</td>\n",
              "      <td>['omitting', 'gluten', 'diet', 'key', 'control...</td>\n",
              "      <td>['[', \"'\", 'dietary', \"'\", ',', \"'\", 'restrict...</td>\n",
              "      <td>['[', \"'\", 'omit', \"'\", ',', \"'\", 'gluten', \"'...</td>\n",
              "      <td>['dietary', 'restriction', 'celiac', 'disease'...</td>\n",
              "      <td>['omit', 'gluten', 'diet', 'key', 'control', '...</td>\n",
              "    </tr>\n",
              "    <tr>\n",
              "      <th>3</th>\n",
              "      <td>can i transmit genital warts seventeen years a...</td>\n",
              "      <td>famotidine pepcid products is in a drug class ...</td>\n",
              "      <td>['wart']</td>\n",
              "      <td>-1.0</td>\n",
              "      <td>can i transmit genital warts seventeen years a...</td>\n",
              "      <td>famotidine pepcid products is in a drug class ...</td>\n",
              "      <td>transmit genital warts seventeen years removed</td>\n",
              "      <td>famotidine pepcid products drug class called h...</td>\n",
              "      <td>['transmit', 'genital', 'warts', 'seventeen', ...</td>\n",
              "      <td>['famotidine', 'pepcid', 'products', 'drug', '...</td>\n",
              "      <td>['[', \"'\", 'transmit', \"'\", ',', \"'\", 'genital...</td>\n",
              "      <td>['[', \"'\", 'famotidine', \"'\", ',', \"'\", 'pepci...</td>\n",
              "      <td>['transmit', 'genital', 'wart', 'seventeen', '...</td>\n",
              "      <td>['famotidine', 'pepcid', 'product', 'drug', 'c...</td>\n",
              "    </tr>\n",
              "    <tr>\n",
              "      <th>4</th>\n",
              "      <td>is all vitamin d the same</td>\n",
              "      <td>hi this means you do not have hepatitis b and ...</td>\n",
              "      <td>['vitamin d']</td>\n",
              "      <td>-1.0</td>\n",
              "      <td>is all vitamin d the same</td>\n",
              "      <td>hi this means you do not have hepatitis b and ...</td>\n",
              "      <td>vitamin</td>\n",
              "      <td>hi means not hepatitis b immune hepatitis b re...</td>\n",
              "      <td>['vitamin']</td>\n",
              "      <td>['hi', 'means', 'not', 'hepatitis', 'b', 'immu...</td>\n",
              "      <td>['[', \"'\", 'vitamin', \"'\", ']']</td>\n",
              "      <td>['[', \"'\", 'hi', \"'\", ',', \"'\", 'mean', \"'\", '...</td>\n",
              "      <td>['vitamin']</td>\n",
              "      <td>['mean', 'not', 'hepatitis', 'immune', 'hepati...</td>\n",
              "    </tr>\n",
              "  </tbody>\n",
              "</table>\n",
              "</div>\n",
              "    <div class=\"colab-df-buttons\">\n",
              "\n",
              "  <div class=\"colab-df-container\">\n",
              "    <button class=\"colab-df-convert\" onclick=\"convertToInteractive('df-cda32e03-7ab6-488f-8893-871662fbe641')\"\n",
              "            title=\"Convert this dataframe to an interactive table.\"\n",
              "            style=\"display:none;\">\n",
              "\n",
              "  <svg xmlns=\"http://www.w3.org/2000/svg\" height=\"24px\" viewBox=\"0 -960 960 960\">\n",
              "    <path d=\"M120-120v-720h720v720H120Zm60-500h600v-160H180v160Zm220 220h160v-160H400v160Zm0 220h160v-160H400v160ZM180-400h160v-160H180v160Zm440 0h160v-160H620v160ZM180-180h160v-160H180v160Zm440 0h160v-160H620v160Z\"/>\n",
              "  </svg>\n",
              "    </button>\n",
              "\n",
              "  <style>\n",
              "    .colab-df-container {\n",
              "      display:flex;\n",
              "      gap: 12px;\n",
              "    }\n",
              "\n",
              "    .colab-df-convert {\n",
              "      background-color: #E8F0FE;\n",
              "      border: none;\n",
              "      border-radius: 50%;\n",
              "      cursor: pointer;\n",
              "      display: none;\n",
              "      fill: #1967D2;\n",
              "      height: 32px;\n",
              "      padding: 0 0 0 0;\n",
              "      width: 32px;\n",
              "    }\n",
              "\n",
              "    .colab-df-convert:hover {\n",
              "      background-color: #E2EBFA;\n",
              "      box-shadow: 0px 1px 2px rgba(60, 64, 67, 0.3), 0px 1px 3px 1px rgba(60, 64, 67, 0.15);\n",
              "      fill: #174EA6;\n",
              "    }\n",
              "\n",
              "    .colab-df-buttons div {\n",
              "      margin-bottom: 4px;\n",
              "    }\n",
              "\n",
              "    [theme=dark] .colab-df-convert {\n",
              "      background-color: #3B4455;\n",
              "      fill: #D2E3FC;\n",
              "    }\n",
              "\n",
              "    [theme=dark] .colab-df-convert:hover {\n",
              "      background-color: #434B5C;\n",
              "      box-shadow: 0px 1px 3px 1px rgba(0, 0, 0, 0.15);\n",
              "      filter: drop-shadow(0px 1px 2px rgba(0, 0, 0, 0.3));\n",
              "      fill: #FFFFFF;\n",
              "    }\n",
              "  </style>\n",
              "\n",
              "    <script>\n",
              "      const buttonEl =\n",
              "        document.querySelector('#df-cda32e03-7ab6-488f-8893-871662fbe641 button.colab-df-convert');\n",
              "      buttonEl.style.display =\n",
              "        google.colab.kernel.accessAllowed ? 'block' : 'none';\n",
              "\n",
              "      async function convertToInteractive(key) {\n",
              "        const element = document.querySelector('#df-cda32e03-7ab6-488f-8893-871662fbe641');\n",
              "        const dataTable =\n",
              "          await google.colab.kernel.invokeFunction('convertToInteractive',\n",
              "                                                    [key], {});\n",
              "        if (!dataTable) return;\n",
              "\n",
              "        const docLinkHtml = 'Like what you see? Visit the ' +\n",
              "          '<a target=\"_blank\" href=https://colab.research.google.com/notebooks/data_table.ipynb>data table notebook</a>'\n",
              "          + ' to learn more about interactive tables.';\n",
              "        element.innerHTML = '';\n",
              "        dataTable['output_type'] = 'display_data';\n",
              "        await google.colab.output.renderOutput(dataTable, element);\n",
              "        const docLink = document.createElement('div');\n",
              "        docLink.innerHTML = docLinkHtml;\n",
              "        element.appendChild(docLink);\n",
              "      }\n",
              "    </script>\n",
              "  </div>\n",
              "\n",
              "\n",
              "<div id=\"df-747f70ec-a80c-46e1-adcf-0741e0c212a7\">\n",
              "  <button class=\"colab-df-quickchart\" onclick=\"quickchart('df-747f70ec-a80c-46e1-adcf-0741e0c212a7')\"\n",
              "            title=\"Suggest charts\"\n",
              "            style=\"display:none;\">\n",
              "\n",
              "<svg xmlns=\"http://www.w3.org/2000/svg\" height=\"24px\"viewBox=\"0 0 24 24\"\n",
              "     width=\"24px\">\n",
              "    <g>\n",
              "        <path d=\"M19 3H5c-1.1 0-2 .9-2 2v14c0 1.1.9 2 2 2h14c1.1 0 2-.9 2-2V5c0-1.1-.9-2-2-2zM9 17H7v-7h2v7zm4 0h-2V7h2v10zm4 0h-2v-4h2v4z\"/>\n",
              "    </g>\n",
              "</svg>\n",
              "  </button>\n",
              "\n",
              "<style>\n",
              "  .colab-df-quickchart {\n",
              "      --bg-color: #E8F0FE;\n",
              "      --fill-color: #1967D2;\n",
              "      --hover-bg-color: #E2EBFA;\n",
              "      --hover-fill-color: #174EA6;\n",
              "      --disabled-fill-color: #AAA;\n",
              "      --disabled-bg-color: #DDD;\n",
              "  }\n",
              "\n",
              "  [theme=dark] .colab-df-quickchart {\n",
              "      --bg-color: #3B4455;\n",
              "      --fill-color: #D2E3FC;\n",
              "      --hover-bg-color: #434B5C;\n",
              "      --hover-fill-color: #FFFFFF;\n",
              "      --disabled-bg-color: #3B4455;\n",
              "      --disabled-fill-color: #666;\n",
              "  }\n",
              "\n",
              "  .colab-df-quickchart {\n",
              "    background-color: var(--bg-color);\n",
              "    border: none;\n",
              "    border-radius: 50%;\n",
              "    cursor: pointer;\n",
              "    display: none;\n",
              "    fill: var(--fill-color);\n",
              "    height: 32px;\n",
              "    padding: 0;\n",
              "    width: 32px;\n",
              "  }\n",
              "\n",
              "  .colab-df-quickchart:hover {\n",
              "    background-color: var(--hover-bg-color);\n",
              "    box-shadow: 0 1px 2px rgba(60, 64, 67, 0.3), 0 1px 3px 1px rgba(60, 64, 67, 0.15);\n",
              "    fill: var(--button-hover-fill-color);\n",
              "  }\n",
              "\n",
              "  .colab-df-quickchart-complete:disabled,\n",
              "  .colab-df-quickchart-complete:disabled:hover {\n",
              "    background-color: var(--disabled-bg-color);\n",
              "    fill: var(--disabled-fill-color);\n",
              "    box-shadow: none;\n",
              "  }\n",
              "\n",
              "  .colab-df-spinner {\n",
              "    border: 2px solid var(--fill-color);\n",
              "    border-color: transparent;\n",
              "    border-bottom-color: var(--fill-color);\n",
              "    animation:\n",
              "      spin 1s steps(1) infinite;\n",
              "  }\n",
              "\n",
              "  @keyframes spin {\n",
              "    0% {\n",
              "      border-color: transparent;\n",
              "      border-bottom-color: var(--fill-color);\n",
              "      border-left-color: var(--fill-color);\n",
              "    }\n",
              "    20% {\n",
              "      border-color: transparent;\n",
              "      border-left-color: var(--fill-color);\n",
              "      border-top-color: var(--fill-color);\n",
              "    }\n",
              "    30% {\n",
              "      border-color: transparent;\n",
              "      border-left-color: var(--fill-color);\n",
              "      border-top-color: var(--fill-color);\n",
              "      border-right-color: var(--fill-color);\n",
              "    }\n",
              "    40% {\n",
              "      border-color: transparent;\n",
              "      border-right-color: var(--fill-color);\n",
              "      border-top-color: var(--fill-color);\n",
              "    }\n",
              "    60% {\n",
              "      border-color: transparent;\n",
              "      border-right-color: var(--fill-color);\n",
              "    }\n",
              "    80% {\n",
              "      border-color: transparent;\n",
              "      border-right-color: var(--fill-color);\n",
              "      border-bottom-color: var(--fill-color);\n",
              "    }\n",
              "    90% {\n",
              "      border-color: transparent;\n",
              "      border-bottom-color: var(--fill-color);\n",
              "    }\n",
              "  }\n",
              "</style>\n",
              "\n",
              "  <script>\n",
              "    async function quickchart(key) {\n",
              "      const quickchartButtonEl =\n",
              "        document.querySelector('#' + key + ' button');\n",
              "      quickchartButtonEl.disabled = true;  // To prevent multiple clicks.\n",
              "      quickchartButtonEl.classList.add('colab-df-spinner');\n",
              "      try {\n",
              "        const charts = await google.colab.kernel.invokeFunction(\n",
              "            'suggestCharts', [key], {});\n",
              "      } catch (error) {\n",
              "        console.error('Error during call to suggestCharts:', error);\n",
              "      }\n",
              "      quickchartButtonEl.classList.remove('colab-df-spinner');\n",
              "      quickchartButtonEl.classList.add('colab-df-quickchart-complete');\n",
              "    }\n",
              "    (() => {\n",
              "      let quickchartButtonEl =\n",
              "        document.querySelector('#df-747f70ec-a80c-46e1-adcf-0741e0c212a7 button');\n",
              "      quickchartButtonEl.style.display =\n",
              "        google.colab.kernel.accessAllowed ? 'block' : 'none';\n",
              "    })();\n",
              "  </script>\n",
              "</div>\n",
              "\n",
              "    </div>\n",
              "  </div>\n"
            ],
            "application/vnd.google.colaboratory.intrinsic+json": {
              "type": "dataframe",
              "variable_name": "df",
              "summary": "{\n  \"name\": \"df\",\n  \"rows\": 6275,\n  \"fields\": [\n    {\n      \"column\": \"short_question\",\n      \"properties\": {\n        \"dtype\": \"string\",\n        \"num_unique_values\": 5508,\n        \"samples\": [\n          \"i have been having pain behind and above my right eye for 3 to 4 days now\",\n          \"does bc powder contains naproxen sodium\",\n          \"why have i missed my periods\"\n        ],\n        \"semantic_type\": \"\",\n        \"description\": \"\"\n      }\n    },\n    {\n      \"column\": \"short_answer\",\n      \"properties\": {\n        \"dtype\": \"string\",\n        \"num_unique_values\": 5777,\n        \"samples\": [\n          \"an std is really unlikely here it probably has more to do with chafing heat the clothes you wear or the soaps you use try a little body powder to reduce the chafing or maybe try different clothes if you can get a break to do that in and put a little acne wash on there in the shower to clear up the bumps\",\n          \"hi this could be to a number of reasons stress and a change in diet can cause late periods other factors are age could this be the start of the menopause i would try not to worry to much as your thyroid and hormone levels are at the norm base line if you are still worried perhaps ask to see a gynaecologist to put your mind at ease\",\n          \"hi its a big problem with bv it keeps coming back but google bv and sea salt you may find some interesting answer is that my help you lots of good info good luck\"\n        ],\n        \"semantic_type\": \"\",\n        \"description\": \"\"\n      }\n    },\n    {\n      \"column\": \"tags\",\n      \"properties\": {\n        \"dtype\": \"string\",\n        \"num_unique_values\": 3852,\n        \"samples\": [\n          \"['baby' 'allergic reaction' 'breastfeed' 'rash' 'arm']\",\n          \"['cavity' 'coldness']\",\n          \"['trichomoniasis']\"\n        ],\n        \"semantic_type\": \"\",\n        \"description\": \"\"\n      }\n    },\n    {\n      \"column\": \"label\",\n      \"properties\": {\n        \"dtype\": \"number\",\n        \"std\": 1.0000796526900446,\n        \"min\": -1.0,\n        \"max\": 1.0,\n        \"num_unique_values\": 2,\n        \"samples\": [\n          -1.0,\n          1.0\n        ],\n        \"semantic_type\": \"\",\n        \"description\": \"\"\n      }\n    },\n    {\n      \"column\": \"cleaned_short_question\",\n      \"properties\": {\n        \"dtype\": \"string\",\n        \"num_unique_values\": 5507,\n        \"samples\": [\n          \"i have been having pain behind and above my right eye for 3 to 4 days now\",\n          \"does bc powder contains naproxen sodium\"\n        ],\n        \"semantic_type\": \"\",\n        \"description\": \"\"\n      }\n    },\n    {\n      \"column\": \"cleaned_short_answer\",\n      \"properties\": {\n        \"dtype\": \"string\",\n        \"num_unique_values\": 5775,\n        \"samples\": [\n          \"in my opinion you have two possible explaination 1 you have an ear infection which require an otologist 2 a virus infection need to see your blood tests to identify its type\",\n          \"hi this could be to a number of reasons stress and a change in diet can cause late periods other factors are age could this be the start of the menopause i would try not to worry to much as your thyroid and hormone levels are at the norm base line if you are still worried perhaps ask to see a gynaecologist to put your mind at ease\"\n        ],\n        \"semantic_type\": \"\",\n        \"description\": \"\"\n      }\n    },\n    {\n      \"column\": \"c_short_question_no_stopwords\",\n      \"properties\": {\n        \"dtype\": \"string\",\n        \"num_unique_values\": 5503,\n        \"samples\": [\n          \"income used calculate subsidy eligibility health insurance exchanges\",\n          \"epigastric painwhat wrong\"\n        ],\n        \"semantic_type\": \"\",\n        \"description\": \"\"\n      }\n    },\n    {\n      \"column\": \"c_short_answer_no_stopwords\",\n      \"properties\": {\n        \"dtype\": \"string\",\n        \"num_unique_values\": 5771,\n        \"samples\": [\n          \"zyrtec lasts 24 hours usually benadryl not needed safe give night even zyrtec first generation antihistamine interfer restful dream state sleeping\",\n          \"testiclar torsion need go er torsion medical emergency unfortunately no way reach examine order doppler ultrasound make diagnosis\"\n        ],\n        \"semantic_type\": \"\",\n        \"description\": \"\"\n      }\n    },\n    {\n      \"column\": \"cleaned_short_question_no_SW_tokens\",\n      \"properties\": {\n        \"dtype\": \"string\",\n        \"num_unique_values\": 5503,\n        \"samples\": [\n          \"['income', 'used', 'calculate', 'subsidy', 'eligibility', 'health', 'insurance', 'exchanges']\",\n          \"['epigastric', 'painwhat', 'wrong']\"\n        ],\n        \"semantic_type\": \"\",\n        \"description\": \"\"\n      }\n    },\n    {\n      \"column\": \"cleaned_short_answer_no_SW_tokens\",\n      \"properties\": {\n        \"dtype\": \"string\",\n        \"num_unique_values\": 5772,\n        \"samples\": [\n          \"['zyrtec', 'lasts', '24', 'hours', 'usually', 'benadryl', 'not', 'needed', 'safe', 'give', 'night', 'even', 'zyrtec', 'first', 'generation', 'antihistamine', 'interfer', 'restful', 'dream', 'state', 'sleeping']\",\n          \"['testiclar', 'torsion', 'need', 'go', 'er', 'torsion', 'medical', 'emergency', 'unfortunately', 'no', 'way', 'reach', 'examine', 'order', 'doppler', 'ultrasound', 'make', 'diagnosis']\"\n        ],\n        \"semantic_type\": \"\",\n        \"description\": \"\"\n      }\n    },\n    {\n      \"column\": \"lemmatized_short_question_tokens\",\n      \"properties\": {\n        \"dtype\": \"string\",\n        \"num_unique_values\": 5501,\n        \"samples\": [\n          \"['[', \\\"'\\\", 'difference', \\\"'\\\", ',', \\\"'\\\", 'inflammation', \\\"'\\\", ',', \\\"'\\\", 'edema', \\\"'\\\", ']']\",\n          \"['[', \\\"'\\\", 'epigastric', \\\"'\\\", ',', \\\"'\\\", 'painwhat', \\\"'\\\", ',', \\\"'\\\", 'wrong', \\\"'\\\", ']']\"\n        ],\n        \"semantic_type\": \"\",\n        \"description\": \"\"\n      }\n    },\n    {\n      \"column\": \"lemmatized_short_answer_tokens\",\n      \"properties\": {\n        \"dtype\": \"string\",\n        \"num_unique_values\": 5772,\n        \"samples\": [\n          \"['[', \\\"'\\\", 'zyrtec', \\\"'\\\", ',', \\\"'\\\", 'last', \\\"'\\\", ',', \\\"'\\\", '24', \\\"'\\\", ',', \\\"'\\\", 'hour', \\\"'\\\", ',', \\\"'\\\", 'usually', \\\"'\\\", ',', \\\"'\\\", 'benadryl', \\\"'\\\", ',', \\\"'\\\", 'not', \\\"'\\\", ',', \\\"'\\\", 'need', \\\"'\\\", ',', \\\"'\\\", 'safe', \\\"'\\\", ',', \\\"'\\\", 'give', \\\"'\\\", ',', \\\"'\\\", 'night', \\\"'\\\", ',', \\\"'\\\", 'even', \\\"'\\\", ',', \\\"'\\\", 'zyrtec', \\\"'\\\", ',', \\\"'\\\", 'first', \\\"'\\\", ',', \\\"'\\\", 'generation', \\\"'\\\", ',', \\\"'\\\", 'antihistamine', \\\"'\\\", ',', \\\"'\\\", 'interfer', \\\"'\\\", ',', \\\"'\\\", 'restful', \\\"'\\\", ',', \\\"'\\\", 'dream', \\\"'\\\", ',', \\\"'\\\", 'state', \\\"'\\\", ',', \\\"'\\\", 'sleep', \\\"'\\\", ']']\",\n          \"['[', \\\"'\\\", 'testiclar', \\\"'\\\", ',', \\\"'\\\", 'torsion', \\\"'\\\", ',', \\\"'\\\", 'need', \\\"'\\\", ',', \\\"'\\\", 'go', \\\"'\\\", ',', \\\"'\\\", 'er', \\\"'\\\", ',', \\\"'\\\", 'torsion', \\\"'\\\", ',', \\\"'\\\", 'medical', \\\"'\\\", ',', \\\"'\\\", 'emergency', \\\"'\\\", ',', \\\"'\\\", 'unfortunately', \\\"'\\\", ',', \\\"'\\\", 'no', \\\"'\\\", ',', \\\"'\\\", 'way', \\\"'\\\", ',', \\\"'\\\", 'reach', \\\"'\\\", ',', \\\"'\\\", 'examine', \\\"'\\\", ',', \\\"'\\\", 'order', \\\"'\\\", ',', \\\"'\\\", 'doppler', \\\"'\\\", ',', \\\"'\\\", 'ultrasound', \\\"'\\\", ',', \\\"'\\\", 'make', \\\"'\\\", ',', \\\"'\\\", 'diagnosis', \\\"'\\\", ']']\"\n        ],\n        \"semantic_type\": \"\",\n        \"description\": \"\"\n      }\n    },\n    {\n      \"column\": \"filtered_short_question_tokens\",\n      \"properties\": {\n        \"dtype\": \"string\",\n        \"num_unique_values\": 5491,\n        \"samples\": [\n          \"['exercise', 'year', 'see', 'dark', 'spot', 'feel', 'light', 'head', 'exercise', 'keep', 'not']\",\n          \"['calcification', 'find', 'lot', 'small', 'movable', 'lump', 'serious']\"\n        ],\n        \"semantic_type\": \"\",\n        \"description\": \"\"\n      }\n    },\n    {\n      \"column\": \"filtered_short_answer_tokens\",\n      \"properties\": {\n        \"dtype\": \"string\",\n        \"num_unique_values\": 5767,\n        \"samples\": [\n          \"['bloody', 'stool', 'five', 'year', 'tear', 'nickle', 'sized', 'growth', 'three', 'year', 'either', 'tolerant', 'symptom', 'reluctant', 'see', 'medical', 'provider', 'either', 'way', 'advice', 'properly', 'examine', 'nature', 'thing', 'can', 'not', 'blindly', 'determine', 'vague', 'description', 'one', 'possibility', 'come', 'mind', 'many', 'would', 'pilonidal', 'sinus', 'tract', 'occur', 'gluteal', 'fold', 'butt', 'crack', 'last', 'long', 'long', 'time', 'become', 'infect', 'quite', 'often', 'resute', 'drainage', 'pain', 'cause', 'bloody', 'stool', 'relate', 'could', 'entirely', 'different', 'problem', 'problem', 'could', 'serious', 'must', 'see', 'medical', 'provider', 'well', 'yet', 'proctologist']\",\n          \"['method', 'administer', 'cortisone', 'injection', 'joint', 'similar', 'soft', 'tissue', 'injection', 'betadine', 'however', 'commonly', 'use', 'sterilization', 'skin', 'joint', 'furthermore', 'excessive', 'amount', 'fluid', 'within', 'joint', 'often', 'remove', 'first', 'separate', 'syringe', 'needle', 'prior', 'injection', 'cortisone', 'removal', 'joint', 'fluid', 'allow', 'doctor', 'examine', 'fluid', 'submit', 'sample', 'laboratory', 'diagnosis', 'removal', 'also', 'rapidly', 'relief', 'pain', 'reduce', 'pressure', 'fluid', 'within', 'joint', 'finally', 'removal', 'fluid', 'may', 'allow', 'joint', 'heal', 'quickly']\"\n        ],\n        \"semantic_type\": \"\",\n        \"description\": \"\"\n      }\n    }\n  ]\n}"
            }
          },
          "metadata": {},
          "execution_count": 4
        }
      ]
    },
    {
      "cell_type": "markdown",
      "source": [
        "# **EXPLORATORY DATA ANALYSIS**"
      ],
      "metadata": {
        "id": "7gn6JAM0tcwV"
      }
    },
    {
      "cell_type": "code",
      "source": [
        "print(df.dtypes)"
      ],
      "metadata": {
        "execution": {
          "iopub.status.busy": "2024-10-28T14:37:20.294892Z",
          "iopub.execute_input": "2024-10-28T14:37:20.295862Z",
          "iopub.status.idle": "2024-10-28T14:37:20.304629Z",
          "shell.execute_reply.started": "2024-10-28T14:37:20.295810Z",
          "shell.execute_reply": "2024-10-28T14:37:20.303105Z"
        },
        "trusted": true,
        "id": "rgD31Ktl1Jgi",
        "outputId": "fa6fe0c3-3f46-4939-f8c3-609450e37eae"
      },
      "execution_count": null,
      "outputs": [
        {
          "name": "stdout",
          "text": "short_question                          object\nshort_answer                            object\ntags                                    object\nlabel                                  float64\ncleaned_short_question                  object\ncleaned_short_answer                    object\nc_short_question_no_stopwords           object\nc_short_answer_no_stopwords             object\ncleaned_short_question_no_SW_tokens     object\ncleaned_short_answer_no_SW_tokens       object\nlemmatized_short_question_tokens        object\nlemmatized_short_answer_tokens          object\nfiltered_short_question_tokens          object\nfiltered_short_answer_tokens            object\ndtype: object\n",
          "output_type": "stream"
        }
      ]
    },
    {
      "cell_type": "code",
      "source": [
        "# SUMMARY OF THE DATASET\n",
        "\n",
        "print(\"Statistical summary of Q/A Data\")\n",
        "\n",
        "print(df.describe())"
      ],
      "metadata": {
        "id": "c19tDybDehWl",
        "outputId": "851c683c-2121-4fdc-b285-b17bded26313",
        "execution": {
          "iopub.status.busy": "2024-10-28T14:37:26.355164Z",
          "iopub.execute_input": "2024-10-28T14:37:26.356514Z",
          "iopub.status.idle": "2024-10-28T14:37:26.375732Z",
          "shell.execute_reply.started": "2024-10-28T14:37:26.356459Z",
          "shell.execute_reply": "2024-10-28T14:37:26.374338Z"
        },
        "trusted": true
      },
      "execution_count": null,
      "outputs": [
        {
          "name": "stdout",
          "text": "Statistical summary of Q/A Data\n             label\ncount  6274.000000\nmean     -0.000319\nstd       1.000080\nmin      -1.000000\n25%      -1.000000\n50%      -1.000000\n75%       1.000000\nmax       1.000000\n",
          "output_type": "stream"
        }
      ]
    },
    {
      "cell_type": "code",
      "source": [
        "# FIND NUMBER OF UNIQUE CATEGORIES IN THE TAGS COLUMN\n",
        "\n",
        "unique_tags = df['tags'].value_counts()\n",
        "\n",
        "# Remove the row where tags is ['']\n",
        "unique_tags_filtered = unique_tags[unique_tags.index != \"['']\"]\n",
        "\n",
        "# Display the top 10 unique tags after filtering\n",
        "unique_tags_filtered.head(10)\n"
      ],
      "metadata": {
        "id": "NnqTfcE7fZly",
        "outputId": "6a9bbcd5-c9d9-458d-80a2-e79366fe0f40",
        "execution": {
          "iopub.status.busy": "2024-10-28T14:37:32.651254Z",
          "iopub.execute_input": "2024-10-28T14:37:32.651696Z",
          "iopub.status.idle": "2024-10-28T14:37:32.673262Z",
          "shell.execute_reply.started": "2024-10-28T14:37:32.651654Z",
          "shell.execute_reply": "2024-10-28T14:37:32.671805Z"
        },
        "trusted": true
      },
      "execution_count": null,
      "outputs": [
        {
          "execution_count": 7,
          "output_type": "execute_result",
          "data": {
            "text/plain": "tags\n['pregnancy']             77\n['exercise']              25\n['drug overdose']         24\n['period' 'pregnancy']    23\n['drug']                  20\n['skin']                  19\n['shingles']              18\n['flu']                   17\n['anxiety']               17\n['prostate cancer']       16\nName: count, dtype: int64"
          },
          "metadata": {}
        }
      ]
    },
    {
      "cell_type": "code",
      "source": [
        "# Calculating the average length of the 'short_question' column\n",
        "\n",
        "df['short_question_length'] = df['short_question'].apply(len)\n",
        "\n",
        "average_length_question = df['short_question_length'].mean()\n",
        "\n",
        "print(\"The average length of the questions is:\",average_length_question)\n",
        "\n",
        "\n",
        "\n",
        "df['short_answer_length'] = df['short_answer'].apply(len)\n",
        "\n",
        "average_length_answer = df['short_answer_length'].mean()\n",
        "\n",
        "print(\"The average length of the answers is:\",average_length_answer)"
      ],
      "metadata": {
        "id": "N0WTGomqtten",
        "outputId": "9d383c82-ce10-443a-e087-73087513a7f8",
        "execution": {
          "iopub.status.busy": "2024-10-28T14:37:53.539898Z",
          "iopub.execute_input": "2024-10-28T14:37:53.540356Z",
          "iopub.status.idle": "2024-10-28T14:37:53.562672Z",
          "shell.execute_reply.started": "2024-10-28T14:37:53.540312Z",
          "shell.execute_reply": "2024-10-28T14:37:53.561362Z"
        },
        "trusted": true
      },
      "execution_count": null,
      "outputs": [
        {
          "name": "stdout",
          "text": "The average length of the questions is: 170.94151394422312\nThe average length of the answers is: 495.9569721115538\n",
          "output_type": "stream"
        }
      ]
    },
    {
      "cell_type": "code",
      "source": [
        "# Data Visualization of Questions and Answers\n",
        "\n",
        "import matplotlib.pyplot as plt\n",
        "import seaborn as sns\n",
        "\n",
        "length_data = pd.melt(df[['short_question_length', 'short_answer_length']],var_name='Type', value_name='Length')\n",
        "\n",
        "# Randomly sample 1000 points for the swarmplot if the dataset is large\n",
        "\n",
        "sampled_data = length_data.sample(n=1000, random_state=42)\n",
        "plt.figure(figsize=(6,3))\n",
        "sns.swarmplot(x='Type', y='Length', data=sampled_data, color='.25')\n",
        "plt.title('Swarmplot for Length of Short Questions and Answers (Sampled)')\n",
        "plt.show()"
      ],
      "metadata": {
        "id": "Dema_e1mA0GU",
        "outputId": "2baf0d39-f892-4cca-a7cf-4ed0f908fd04",
        "execution": {
          "iopub.status.busy": "2024-10-28T14:37:57.154438Z",
          "iopub.execute_input": "2024-10-28T14:37:57.154919Z",
          "iopub.status.idle": "2024-10-28T14:38:19.032413Z",
          "shell.execute_reply.started": "2024-10-28T14:37:57.154876Z",
          "shell.execute_reply": "2024-10-28T14:38:19.030900Z"
        },
        "trusted": true
      },
      "execution_count": null,
      "outputs": [
        {
          "name": "stderr",
          "text": "/opt/conda/lib/python3.10/site-packages/seaborn/_oldcore.py:1119: FutureWarning: use_inf_as_na option is deprecated and will be removed in a future version. Convert inf values to NaN before operating instead.\n  with pd.option_context('mode.use_inf_as_na', True):\n/opt/conda/lib/python3.10/site-packages/seaborn/_oldcore.py:1119: FutureWarning: use_inf_as_na option is deprecated and will be removed in a future version. Convert inf values to NaN before operating instead.\n  with pd.option_context('mode.use_inf_as_na', True):\n/opt/conda/lib/python3.10/site-packages/seaborn/_oldcore.py:1075: FutureWarning: When grouping with a length-1 list-like, you will need to pass a length-1 tuple to get_group in a future version of pandas. Pass `(name,)` instead of `name` to silence this warning.\n  data_subset = grouped_data.get_group(pd_key)\n/opt/conda/lib/python3.10/site-packages/seaborn/categorical.py:3544: UserWarning: 21.0% of the points cannot be placed; you may want to decrease the size of the markers or use stripplot.\n  warnings.warn(msg, UserWarning)\n/opt/conda/lib/python3.10/site-packages/seaborn/categorical.py:3544: UserWarning: 55.8% of the points cannot be placed; you may want to decrease the size of the markers or use stripplot.\n  warnings.warn(msg, UserWarning)\n/opt/conda/lib/python3.10/site-packages/seaborn/categorical.py:3544: UserWarning: 42.4% of the points cannot be placed; you may want to decrease the size of the markers or use stripplot.\n  warnings.warn(msg, UserWarning)\n/opt/conda/lib/python3.10/site-packages/seaborn/categorical.py:3544: UserWarning: 69.2% of the points cannot be placed; you may want to decrease the size of the markers or use stripplot.\n  warnings.warn(msg, UserWarning)\n",
          "output_type": "stream"
        },
        {
          "output_type": "display_data",
          "data": {
            "text/plain": "<Figure size 600x300 with 1 Axes>",
            "image/png": "[encoded data removed]"
          },
          "metadata": {}
        }
      ]
    },
    {
      "cell_type": "markdown",
      "source": [
        "# **MODEL TRAINING**"
      ],
      "metadata": {
        "id": "cAEpsqQn1Jgj"
      }
    },
    {
      "cell_type": "code",
      "source": [
        "# USING TF-IDF ONLY TO GET ANSWERS (Testing on random question)\n",
        "\n",
        "from sklearn.feature_extraction.text import TfidfVectorizer\n",
        "from sklearn.metrics.pairwise import cosine_similarity\n",
        "import pandas as pd\n",
        "\n",
        "# Filter the dataset to include only correct answers\n",
        "filtered_df = df[df['label'] == 1]\n",
        "\n",
        "# Fit TF-IDF on the filtered lemmatized question tokens\n",
        "tfidf_vectorizer = TfidfVectorizer(max_features=10000, ngram_range=(1, 3))\n",
        "tfidf_matrix = tfidf_vectorizer.fit_transform(filtered_df['filtered_short_question_tokens'])\n",
        "\n",
        "# Function to get the best answer based on a user question\n",
        "def get_best_answer(user_question):\n",
        "    # Transform the user question using the TF-IDF vectorizer\n",
        "    question_tfidf = tfidf_vectorizer.transform([user_question])\n",
        "\n",
        "    # Calculate cosine similarity between the user question and dataset questions\n",
        "    similarities = cosine_similarity(question_tfidf, tfidf_matrix)\n",
        "\n",
        "    # Find the index of the most similar question\n",
        "    best_match_idx = similarities.argmax()\n",
        "\n",
        "    # Retrieve the corresponding answer from the dataset\n",
        "    best_answer = filtered_df.iloc[best_match_idx]['short_answer']\n",
        "\n",
        "    return best_answer\n",
        "\n",
        "# Test the chatbot with a sample question\n",
        "user_question = \"Symptoms of pregnancy\"\n",
        "print(\"Chatbot response:\", get_best_answer(user_question))\n"
      ],
      "metadata": {
        "execution": {
          "iopub.status.busy": "2024-10-29T10:24:26.323899Z",
          "iopub.execute_input": "2024-10-29T10:24:26.324748Z",
          "iopub.status.idle": "2024-10-29T10:24:26.567762Z",
          "shell.execute_reply.started": "2024-10-29T10:24:26.324709Z",
          "shell.execute_reply": "2024-10-29T10:24:26.566803Z"
        },
        "trusted": true,
        "colab": {
          "base_uri": "https://localhost:8080/"
        },
        "id": "fmRhto7V1Jgj",
        "outputId": "2bf38eb1-4acb-4523-df2c-29c957741b59"
      },
      "execution_count": 14,
      "outputs": [
        {
          "output_type": "stream",
          "name": "stdout",
          "text": [
            "Chatbot response: if a woman has a small prolactinoma there is usually no reason that she cannot conceive and have a normal pregnancy after successful medical therapy the pituitary enlarges and prolactin production increases during normal pregnancy in women without pituitary disorders women with prolactin secreting tumors may experience further pituitary enlargement and must be closely monitored during pregnancy but damage to the pituitary or eye nerves occurs in less than 1 of pregnant women with prolactinomas in women with large tumors the risk of damage to the pituitary or eye nerves is greater if a woman has already completed a successful pregnancy the likelihood of future successful pregnancies is extremely high a woman with a prolactinoma should discuss her plans to conceive with her physician so she can be carefully evaluated prior to pregnancy this evaluation typically includes a magnetic resonance imaging mri scan to assess the size of the tumor and an eye examination with measurement of visual fields as soon as the patient becomes pregnant her doctor will usually advise that she discontinue bromocriptine parlodel or cabergoline dostinex patients should consult their hormone specialists endocrinologists promptly if symptoms develop – particularly headaches visual changes nausea vomiting excessive thirst or urination or extreme lethargy bromocriptine or cabergoline treatment may be renewed and additional treatment may be required if symptoms occur as a result of growth of the tumor during pregnancy\n"
          ]
        }
      ]
    },
    {
      "cell_type": "code",
      "source": [
        "# PREDICTING THE ANSWERS FOR GIVEN QUESTIONS\n",
        "\n",
        "from sklearn.model_selection import train_test_split\n",
        "from sklearn.metrics import accuracy_score\n",
        "from sklearn.metrics.pairwise import cosine_similarity\n",
        "\n",
        "filtered_df = df[df['label'] == 1]\n",
        "\n",
        "# Split the data into training and testing sets\n",
        "train_df, test_df = train_test_split(filtered_df, test_size=0.2, random_state=42)  # 80% train, 20% test\n",
        "\n",
        "# Fit TF-IDF on the training set only\n",
        "tfidf_vectorizer = TfidfVectorizer(max_features=5000, ngram_range=(1, 3))\n",
        "tfidf_matrix_train = tfidf_vectorizer.fit_transform(train_df['filtered_short_question_tokens'])\n",
        "\n",
        "def get_best_answer(user_question):\n",
        "    question_tfidf = tfidf_vectorizer.transform([user_question])\n",
        "    similarities = cosine_similarity(question_tfidf, tfidf_matrix_train)\n",
        "    best_match_idx = similarities.argmax()\n",
        "    best_answer = train_df.iloc[best_match_idx]['short_answer']\n",
        "    return best_answer"
      ],
      "metadata": {
        "id": "bJ9ety38bv8g"
      },
      "execution_count": 15,
      "outputs": []
    },
    {
      "cell_type": "code",
      "source": [
        "# CALCULATING ACCURACY BASED ON COSINE SIMILARITY\n",
        "similarity_threshold = 0.5\n",
        "\n",
        "def evaluate_accuracy_with_cosine_similarity():\n",
        "    correct_predictions = 0\n",
        "\n",
        "    for idx, row in test_df.iterrows():\n",
        "        user_question = row['filtered_short_question_tokens']\n",
        "        expected_answer = row['short_answer']\n",
        "        predicted_answer = get_best_answer(user_question)\n",
        "\n",
        "        # Compute TF-IDF vectors for both the predicted and expected answers\n",
        "        expected_answer_vec = tfidf_vectorizer.transform([expected_answer])\n",
        "        predicted_answer_vec = tfidf_vectorizer.transform([predicted_answer])\n",
        "\n",
        "        # Calculate cosine similarity\n",
        "        similarity_score = cosine_similarity(expected_answer_vec, predicted_answer_vec).flatten()[0]\n",
        "\n",
        "        # Check if similarity score meets threshold\n",
        "        if similarity_score >= similarity_threshold:\n",
        "            correct_predictions += 1\n",
        "\n",
        "    # Calculate accuracy\n",
        "    accuracy = correct_predictions / len(test_df)\n",
        "    print(\"Chatbot accuracy based on cosine similarity:\", accuracy)\n",
        "\n",
        "# Run the evaluation\n",
        "evaluate_accuracy_with_cosine_similarity()"
      ],
      "metadata": {
        "colab": {
          "base_uri": "https://localhost:8080/"
        },
        "id": "v0uP1NSgfnYm",
        "outputId": "a641d088-be08-481b-d4a5-d73ff8d3dace"
      },
      "execution_count": 16,
      "outputs": [
        {
          "output_type": "stream",
          "name": "stdout",
          "text": [
            "Chatbot accuracy based on cosine similarity: 0.03343949044585987\n"
          ]
        }
      ]
    },
    {
      "cell_type": "code",
      "source": [
        "!pip install rouge-score"
      ],
      "metadata": {
        "colab": {
          "base_uri": "https://localhost:8080/"
        },
        "id": "dTnhJz3Bf65G",
        "outputId": "8dbc4909-e069-48a6-ba1e-99bd4837d666"
      },
      "execution_count": 8,
      "outputs": [
        {
          "output_type": "stream",
          "name": "stdout",
          "text": [
            "Collecting rouge-score\n",
            "  Downloading rouge_score-0.1.2.tar.gz (17 kB)\n",
            "  Preparing metadata (setup.py) ... \u001b[?25l\u001b[?25hdone\n",
            "Requirement already satisfied: absl-py in /usr/local/lib/python3.10/dist-packages (from rouge-score) (1.4.0)\n",
            "Requirement already satisfied: nltk in /usr/local/lib/python3.10/dist-packages (from rouge-score) (3.8.1)\n",
            "Requirement already satisfied: numpy in /usr/local/lib/python3.10/dist-packages (from rouge-score) (1.26.4)\n",
            "Requirement already satisfied: six>=1.14.0 in /usr/local/lib/python3.10/dist-packages (from rouge-score) (1.16.0)\n",
            "Requirement already satisfied: click in /usr/local/lib/python3.10/dist-packages (from nltk->rouge-score) (8.1.7)\n",
            "Requirement already satisfied: joblib in /usr/local/lib/python3.10/dist-packages (from nltk->rouge-score) (1.4.2)\n",
            "Requirement already satisfied: regex>=2021.8.3 in /usr/local/lib/python3.10/dist-packages (from nltk->rouge-score) (2024.9.11)\n",
            "Requirement already satisfied: tqdm in /usr/local/lib/python3.10/dist-packages (from nltk->rouge-score) (4.66.6)\n",
            "Building wheels for collected packages: rouge-score\n",
            "  Building wheel for rouge-score (setup.py) ... \u001b[?25l\u001b[?25hdone\n",
            "  Created wheel for rouge-score: filename=rouge_score-0.1.2-py3-none-any.whl size=24935 sha256=3605c50178ab951f430f7aa55ba08064c3d33b13385abf0187957a2316f89943\n",
            "  Stored in directory: /root/.cache/pip/wheels/5f/dd/89/461065a73be61a532ff8599a28e9beef17985c9e9c31e541b4\n",
            "Successfully built rouge-score\n",
            "Installing collected packages: rouge-score\n",
            "Successfully installed rouge-score-0.1.2\n"
          ]
        }
      ]
    },
    {
      "cell_type": "code",
      "source": [
        "# CALCULATING ROUGE SCORE\n",
        "\n",
        "from rouge_score import rouge_scorer\n",
        "\n",
        "# Generate responses for the evaluation set\n",
        "test_df['generated_answer'] = test_df['short_question'].apply(get_best_answer)\n",
        "\n",
        "# Initialize the ROUGE evaluator\n",
        "scorer = rouge_scorer.RougeScorer(['rouge1', 'rouge2', 'rougeL'], use_stemmer=True)\n",
        "\n",
        "# Calculate ROUGE scores\n",
        "rouge_scores = []\n",
        "\n",
        "# Calculate ROUGE scores and extract fmeasure\n",
        "for index, row in test_df.iterrows():\n",
        "    reference = row['short_answer']\n",
        "    generated = row['generated_answer']\n",
        "\n",
        "    scores = scorer.score(reference, generated)\n",
        "    # Extract only the fmeasure (F1-score) for averaging\n",
        "    rouge_scores.append({metric: scores[metric].fmeasure for metric in scores})\n",
        "\n",
        "# Create a DataFrame for the ROUGE scores (now with numerical values)\n",
        "rouge_df = pd.DataFrame(rouge_scores)\n",
        "\n",
        "# Calculate average ROUGE scores\n",
        "average_rouge_scores = rouge_df.mean()\n",
        "\n",
        "# Print the average ROUGE scores\n",
        "print(\"Average ROUGE Scores:\")\n",
        "print(average_rouge_scores)"
      ],
      "metadata": {
        "colab": {
          "base_uri": "https://localhost:8080/"
        },
        "id": "8T3hQyCVoMuL",
        "outputId": "217139f7-c15d-434c-de99-3eddb26b6ec9"
      },
      "execution_count": 17,
      "outputs": [
        {
          "output_type": "stream",
          "name": "stdout",
          "text": [
            "Average ROUGE Scores:\n",
            "rouge1    0.188896\n",
            "rouge2    0.029038\n",
            "rougeL    0.115657\n",
            "dtype: float64\n"
          ]
        }
      ]
    },
    {
      "cell_type": "code",
      "source": [
        "# USING TF-IDF AND TRANSFORMERS TO SUMMARIZE THE ANSWERS\n",
        "\n",
        "from sklearn.feature_extraction.text import TfidfVectorizer\n",
        "from sklearn.metrics.pairwise import cosine_similarity\n",
        "# from textblob import TextBlob\n",
        "import pandas as pd\n",
        "from transformers import pipeline\n",
        "\n",
        "# Assuming your DataFrame is `df`\n",
        "# Filter the dataset to include only correct answers\n",
        "filtered_df = df[df['label'] == 1]\n",
        "\n",
        "# Fit TF-IDF on the filtered lemmatized question tokens\n",
        "tfidf_vectorizer = TfidfVectorizer(max_features=5000, ngram_range=(1, 2))\n",
        "tfidf_matrix = tfidf_vectorizer.fit_transform(filtered_df['filtered_short_question_tokens'])\n",
        "\n",
        "# Load summarization pipeline with a specified model\n",
        "summarizer = pipeline(\"summarization\", model=\"facebook/bart-large-cnn\", device=-1)  # Use device=-1 for CPU\n",
        "\n",
        "# Function to get the best answer based on a user question\n",
        "def get_best_answer(user_question):\n",
        "    # Transform the user question using the TF-IDF vectorizer\n",
        "    question_tfidf = tfidf_vectorizer.transform([user_question])\n",
        "\n",
        "    # Calculate cosine similarity between the user question and dataset questions\n",
        "    similarities = cosine_similarity(question_tfidf, tfidf_matrix)\n",
        "\n",
        "    # Find the index of the most similar question\n",
        "    best_match_idx = similarities.argmax()\n",
        "\n",
        "    # Retrieve the corresponding answer from the dataset\n",
        "    best_answer = filtered_df.iloc[best_match_idx]['short_answer']\n",
        "\n",
        "    # Summarize the answer if it's lengthy\n",
        "    if len(best_answer.split()) > 100:  # You can adjust this threshold\n",
        "        summarized_answer = summarizer(best_answer, max_length=100, min_length=50, do_sample=False)[0]['summary_text']\n",
        "    else:\n",
        "        summarized_answer = best_answer\n",
        "\n",
        "    # Grammar correction\n",
        "    # corrected_answer = str(TextBlob(summarized_answer).correct())\n",
        "\n",
        "    return summarized_answer"
      ],
      "metadata": {
        "id": "53-9yPWwjmFQ",
        "execution": {
          "iopub.status.busy": "2024-10-29T07:45:32.883165Z",
          "iopub.execute_input": "2024-10-29T07:45:32.883599Z",
          "iopub.status.idle": "2024-10-29T07:46:13.765482Z",
          "shell.execute_reply.started": "2024-10-29T07:45:32.883559Z",
          "shell.execute_reply": "2024-10-29T07:46:13.763187Z"
        },
        "trusted": true
      },
      "execution_count": 19,
      "outputs": []
    },
    {
      "cell_type": "code",
      "source": [
        "# Test the chatbot with a sample question\n",
        "user_question = \"Symptoms of pregnancy\"\n",
        "print(\"Chatbot response:\", get_best_answer(user_question))"
      ],
      "metadata": {
        "colab": {
          "base_uri": "https://localhost:8080/"
        },
        "id": "2ITV80Z89bRl",
        "outputId": "305b491c-10ed-4218-8a51-c8801b4c42eb"
      },
      "execution_count": 20,
      "outputs": [
        {
          "output_type": "stream",
          "name": "stdout",
          "text": [
            "Chatbot response: If a woman has a small prolactinoma there is usually no reason that she cannot conceive and have a normal pregnancy after successful medical therapy. Pituitary enlarges during normal pregnancy in women without pituitary disorders. Damage to the pituitaries or eye nerves occurs in less than 1 of pregnant women with prolact inomas in women with large tumors.\n"
          ]
        }
      ]
    }
  ]
}